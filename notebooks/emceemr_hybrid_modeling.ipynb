{
 "cells": [
  {
   "cell_type": "markdown",
   "metadata": {},
   "source": [
    "Starting from first experiments, now testing out an approach using \"hybrid\" classes that are part astropy.modeling and part independent."
   ]
  },
  {
   "cell_type": "code",
   "execution_count": null,
   "metadata": {},
   "outputs": [],
   "source": [
    "import sys\n",
    "\n",
    "pathtoinsert = '..'  # should have emceemr\n",
    "if pathtoinsert not in sys.path:\n",
    "    sys.path.insert(1, pathtoinsert)\n",
    "\n",
    "import emceemr"
   ]
  },
  {
   "cell_type": "code",
   "execution_count": 173,
   "metadata": {},
   "outputs": [],
   "source": [
    "from __future__ import (absolute_import, division, print_function,\n",
    "                        unicode_literals)\n",
    "from dataclasses import dataclass\n",
    "from typing import Any\n",
    "from types import MappingProxyType\n",
    "from collections import OrderedDict\n",
    "from collections.abc import Mapping\n",
    "\n",
    "import numpy as np\n",
    "from scipy import stats\n",
    "\n",
    "from astropy import modeling\n",
    "\n",
    "MINF = -np.inf\n",
    "\n",
    "\n",
    "__all__ = ['ProbabilisticModel', 'ProbabilisticParameter']\n",
    "\n",
    "\n",
    "@dataclass\n",
    "class ProbabilisticParameter:\n",
    "    name: str\n",
    "    description: str = ''\n",
    "    prior: stats._distn_infrastructure.rv_generic = None\n",
    "    posterior_samples: Any = None\n",
    "        \n",
    "\n",
    "class ParameterMapping(Mapping):\n",
    "    def __init__(self, parent, param_names):\n",
    "        self._parent = parent\n",
    "        self._param_names = tuple(param_names)\n",
    "        \n",
    "    def __len__(self):\n",
    "        return len(self._param_names)\n",
    "    \n",
    "    def __iter__(self):\n",
    "        return iter(self._param_names)\n",
    "            \n",
    "    def __getitem__(self, nm):\n",
    "        if nm not in self._param_names:\n",
    "            raise KeyError(nm)\n",
    "        return getattr(self._parent, nm)\n",
    "    \n",
    "    def __repr__(self):\n",
    "        return str(dict(self))\n",
    "\n",
    "\n",
    "class ProbabilisticModel:\n",
    "    \"\"\"\n",
    "    A container for a mean model (astropy model) plus a noise model.\n",
    "\n",
    "    Parameters\n",
    "    ----------\n",
    "    mean_model : astropy.modeling model\n",
    "        An astropy model representing the mean model\n",
    "    data_distribution : astropy.modeling model\n",
    "        A model that takes ('mean_model_result', 'data') and yields the logpdf.\n",
    "        See `noise_models.generate_logpdfmodel_class`.\n",
    "    \"\"\"\n",
    "\n",
    "    def __init__(self, mean_model, data_distribution):\n",
    "        self.mean_model = mean_model\n",
    "        self.data_distribution = data_distribution\n",
    "        self.cross_prior = None\n",
    "        \n",
    "        parameters = []\n",
    "        self._mean_parameters = []\n",
    "        self._data_parameters = []\n",
    "        for param_name in mean_model.param_names:\n",
    "            p = ProbabilisticParameter(param_name, description=f'mean model parameter \"{param_name}\"')\n",
    "            self._mean_parameters.append(p.name)\n",
    "            parameters.append(p)\n",
    "            \n",
    "        for param_name in data_distribution.param_names:\n",
    "            p = ProbabilisticParameter(param_name, description=f'data distribution parameter \"{param_name}\"')\n",
    "            self._data_parameters.append(p.name)\n",
    "            parameters.append(p)\n",
    "        \n",
    "        param_names = []\n",
    "        for p in parameters:\n",
    "            setattr(self, p.name, p)\n",
    "            param_names.append(p.name)\n",
    "        self.parameters = ParameterMapping(self, param_names)\n",
    "        \n",
    "    def __repr__(self):\n",
    "        cname = self.__class__.__name__\n",
    "        params_str = ', '.join(self.parameters.keys())\n",
    "        return f'<{cname}({params_str})>'\n",
    "    \n",
    "    def ln_priors(self, parameter_values, data):\n",
    "        lpri = 0\n",
    "        for p, val in zip(self.parameters.values(), parameter_values):\n",
    "            if p.prior is not None:\n",
    "                lpri += p.prior.logpdf(val)\n",
    "                if lpri == MINF:\n",
    "                    return lpri\n",
    "        if self.cross_prior is not None:\n",
    "            lpri += self.cross_prior(*parameter_values)\n",
    "        return lpri\n",
    "    \n",
    "    def ln_likelihood(self, parameter_values, data):\n",
    "        model_val = self.mean_model.evaluate(data, *parameter_values[:len(self._mean_parameters)])\n",
    "        return self.data_distribution.evaluate(model_val, data)\n",
    "    \n",
    "    def ln_prob(self, parameter_values, data):\n",
    "        lpri = self.ln_priors(parameter_values, data)\n",
    "        if lpri == MINF:\n",
    "            return lpri\n",
    "        else:\n",
    "            llike = self.ln_likelihood(parameter_values, data)\n",
    "            return lpri + np.sum(llike)"
   ]
  },
  {
   "cell_type": "code",
   "execution_count": 174,
   "metadata": {},
   "outputs": [
    {
     "data": {
      "text/plain": [
       "(<ProbabilisticModel(slope, intercept, sigma)>,\n",
       " {'slope': ProbabilisticParameter(name='slope', description='mean model parameter \"slope\"', prior=None, posterior_samples=None), 'intercept': ProbabilisticParameter(name='intercept', description='mean model parameter \"intercept\"', prior=None, posterior_samples=None), 'sigma': ProbabilisticParameter(name='sigma', description='data distribution parameter \"sigma\"', prior=None, posterior_samples=None)})"
      ]
     },
     "execution_count": 174,
     "metadata": {},
     "output_type": "execute_result"
    }
   ],
   "source": [
    "from emceemr.noise_models import generate_logpdfmodel_class\n",
    "\n",
    "mean_model = modeling.models.Linear1D(slope=2, intercept=1)\n",
    "noise_model = generate_logpdfmodel_class(stats.norm(scale=1), scale_param_name='sigma')(sigma=1.5)\n",
    "\n",
    "pm = ProbabilisticModel(mean_model, noise_model)\n",
    "pm, pm.parameters"
   ]
  },
  {
   "cell_type": "code",
   "execution_count": 175,
   "metadata": {},
   "outputs": [
    {
     "ename": "KeyError",
     "evalue": "'sigma'",
     "output_type": "error",
     "traceback": [
      "\u001b[0;31m---------------------------------------------------------------------------\u001b[0m",
      "\u001b[0;31mKeyError\u001b[0m                                  Traceback (most recent call last)",
      "\u001b[0;32m<ipython-input-175-31ea37398ec1>\u001b[0m in \u001b[0;36m<module>\u001b[0;34m()\u001b[0m\n\u001b[1;32m      2\u001b[0m \u001b[0msample_y\u001b[0m \u001b[0;34m=\u001b[0m \u001b[0mpm\u001b[0m\u001b[0;34m.\u001b[0m\u001b[0mdata_distribution\u001b[0m\u001b[0;34m.\u001b[0m\u001b[0mdistribution\u001b[0m\u001b[0;34m.\u001b[0m\u001b[0mrvs\u001b[0m\u001b[0;34m(\u001b[0m\u001b[0mloc\u001b[0m\u001b[0;34m=\u001b[0m\u001b[0mpm\u001b[0m\u001b[0;34m.\u001b[0m\u001b[0mmean_model\u001b[0m\u001b[0;34m(\u001b[0m\u001b[0msample_x\u001b[0m\u001b[0;34m)\u001b[0m\u001b[0;34m,\u001b[0m \u001b[0mscale\u001b[0m\u001b[0;34m=\u001b[0m\u001b[0mpm\u001b[0m\u001b[0;34m.\u001b[0m\u001b[0mdata_distribution\u001b[0m\u001b[0;34m.\u001b[0m\u001b[0msigma\u001b[0m\u001b[0;34m)\u001b[0m\u001b[0;34m\u001b[0m\u001b[0;34m\u001b[0m\u001b[0m\n\u001b[1;32m      3\u001b[0m \u001b[0;34m\u001b[0m\u001b[0m\n\u001b[0;32m----> 4\u001b[0;31m \u001b[0mpm\u001b[0m\u001b[0;34m.\u001b[0m\u001b[0mln_prob\u001b[0m\u001b[0;34m(\u001b[0m\u001b[0;34m[\u001b[0m\u001b[0mpm\u001b[0m\u001b[0;34m.\u001b[0m\u001b[0mmean_model\u001b[0m\u001b[0;34m.\u001b[0m\u001b[0mslope\u001b[0m\u001b[0;34m,\u001b[0m \u001b[0mpm\u001b[0m\u001b[0;34m.\u001b[0m\u001b[0mmean_model\u001b[0m\u001b[0;34m.\u001b[0m\u001b[0mintercept\u001b[0m\u001b[0;34m,\u001b[0m \u001b[0mpm\u001b[0m\u001b[0;34m.\u001b[0m\u001b[0mdata_distribution\u001b[0m\u001b[0;34m.\u001b[0m\u001b[0msigma\u001b[0m\u001b[0;34m]\u001b[0m\u001b[0;34m,\u001b[0m \u001b[0msample_y\u001b[0m\u001b[0;34m)\u001b[0m\u001b[0;34m\u001b[0m\u001b[0;34m\u001b[0m\u001b[0m\n\u001b[0m",
      "\u001b[0;32m<ipython-input-173-2fd9d7b8ab6a>\u001b[0m in \u001b[0;36mln_prob\u001b[0;34m(self, parameter_values, data)\u001b[0m\n\u001b[1;32m    108\u001b[0m             \u001b[0;32mreturn\u001b[0m \u001b[0mlpri\u001b[0m\u001b[0;34m\u001b[0m\u001b[0;34m\u001b[0m\u001b[0m\n\u001b[1;32m    109\u001b[0m         \u001b[0;32melse\u001b[0m\u001b[0;34m:\u001b[0m\u001b[0;34m\u001b[0m\u001b[0;34m\u001b[0m\u001b[0m\n\u001b[0;32m--> 110\u001b[0;31m             \u001b[0mllike\u001b[0m \u001b[0;34m=\u001b[0m \u001b[0mself\u001b[0m\u001b[0;34m.\u001b[0m\u001b[0mln_likelihood\u001b[0m\u001b[0;34m(\u001b[0m\u001b[0mparameter_values\u001b[0m\u001b[0;34m,\u001b[0m \u001b[0mdata\u001b[0m\u001b[0;34m)\u001b[0m\u001b[0;34m\u001b[0m\u001b[0;34m\u001b[0m\u001b[0m\n\u001b[0m\u001b[1;32m    111\u001b[0m             \u001b[0;32mreturn\u001b[0m \u001b[0mlpri\u001b[0m \u001b[0;34m+\u001b[0m \u001b[0mnp\u001b[0m\u001b[0;34m.\u001b[0m\u001b[0msum\u001b[0m\u001b[0;34m(\u001b[0m\u001b[0mllike\u001b[0m\u001b[0;34m)\u001b[0m\u001b[0;34m\u001b[0m\u001b[0;34m\u001b[0m\u001b[0m\n",
      "\u001b[0;32m<ipython-input-173-2fd9d7b8ab6a>\u001b[0m in \u001b[0;36mln_likelihood\u001b[0;34m(self, parameter_values, data)\u001b[0m\n\u001b[1;32m    101\u001b[0m     \u001b[0;32mdef\u001b[0m \u001b[0mln_likelihood\u001b[0m\u001b[0;34m(\u001b[0m\u001b[0mself\u001b[0m\u001b[0;34m,\u001b[0m \u001b[0mparameter_values\u001b[0m\u001b[0;34m,\u001b[0m \u001b[0mdata\u001b[0m\u001b[0;34m)\u001b[0m\u001b[0;34m:\u001b[0m\u001b[0;34m\u001b[0m\u001b[0;34m\u001b[0m\u001b[0m\n\u001b[1;32m    102\u001b[0m         \u001b[0mmodel_val\u001b[0m \u001b[0;34m=\u001b[0m \u001b[0mself\u001b[0m\u001b[0;34m.\u001b[0m\u001b[0mmean_model\u001b[0m\u001b[0;34m.\u001b[0m\u001b[0mevaluate\u001b[0m\u001b[0;34m(\u001b[0m\u001b[0mdata\u001b[0m\u001b[0;34m,\u001b[0m \u001b[0;34m*\u001b[0m\u001b[0mparameter_values\u001b[0m\u001b[0;34m[\u001b[0m\u001b[0;34m:\u001b[0m\u001b[0mlen\u001b[0m\u001b[0;34m(\u001b[0m\u001b[0mself\u001b[0m\u001b[0;34m.\u001b[0m\u001b[0m_mean_parameters\u001b[0m\u001b[0;34m)\u001b[0m\u001b[0;34m]\u001b[0m\u001b[0;34m)\u001b[0m\u001b[0;34m\u001b[0m\u001b[0;34m\u001b[0m\u001b[0m\n\u001b[0;32m--> 103\u001b[0;31m         \u001b[0;32mreturn\u001b[0m \u001b[0mself\u001b[0m\u001b[0;34m.\u001b[0m\u001b[0mdata_distribution\u001b[0m\u001b[0;34m.\u001b[0m\u001b[0mevaluate\u001b[0m\u001b[0;34m(\u001b[0m\u001b[0mmodel_val\u001b[0m\u001b[0;34m,\u001b[0m \u001b[0mdata\u001b[0m\u001b[0;34m)\u001b[0m\u001b[0;34m\u001b[0m\u001b[0;34m\u001b[0m\u001b[0m\n\u001b[0m\u001b[1;32m    104\u001b[0m \u001b[0;34m\u001b[0m\u001b[0m\n\u001b[1;32m    105\u001b[0m     \u001b[0;32mdef\u001b[0m \u001b[0mln_prob\u001b[0m\u001b[0;34m(\u001b[0m\u001b[0mself\u001b[0m\u001b[0;34m,\u001b[0m \u001b[0mparameter_values\u001b[0m\u001b[0;34m,\u001b[0m \u001b[0mdata\u001b[0m\u001b[0;34m)\u001b[0m\u001b[0;34m:\u001b[0m\u001b[0;34m\u001b[0m\u001b[0;34m\u001b[0m\u001b[0m\n",
      "\u001b[0;32m~/src/emceemr/emceemr/noise_models.py\u001b[0m in \u001b[0;36mlog_pdf_with_meanmodel\u001b[0;34m(*args)\u001b[0m\n\u001b[1;32m     39\u001b[0m         \u001b[0mkwargs\u001b[0m\u001b[0;34m[\u001b[0m\u001b[0mmean_model_param_name\u001b[0m\u001b[0;34m]\u001b[0m \u001b[0;34m=\u001b[0m \u001b[0margs\u001b[0m\u001b[0;34m[\u001b[0m\u001b[0;36m0\u001b[0m\u001b[0;34m]\u001b[0m\u001b[0;34m\u001b[0m\u001b[0;34m\u001b[0m\u001b[0m\n\u001b[1;32m     40\u001b[0m         \u001b[0mkwargs\u001b[0m\u001b[0;34m[\u001b[0m\u001b[0;34m'loc'\u001b[0m\u001b[0;34m]\u001b[0m \u001b[0;34m=\u001b[0m \u001b[0mkwargs\u001b[0m\u001b[0;34m.\u001b[0m\u001b[0mpop\u001b[0m\u001b[0;34m(\u001b[0m\u001b[0mlocation_param_name\u001b[0m\u001b[0;34m)\u001b[0m\u001b[0;34m\u001b[0m\u001b[0;34m\u001b[0m\u001b[0m\n\u001b[0;32m---> 41\u001b[0;31m         \u001b[0mkwargs\u001b[0m\u001b[0;34m[\u001b[0m\u001b[0;34m'scale'\u001b[0m\u001b[0;34m]\u001b[0m \u001b[0;34m=\u001b[0m \u001b[0mkwargs\u001b[0m\u001b[0;34m.\u001b[0m\u001b[0mpop\u001b[0m\u001b[0;34m(\u001b[0m\u001b[0mscale_param_name\u001b[0m\u001b[0;34m)\u001b[0m\u001b[0;34m\u001b[0m\u001b[0;34m\u001b[0m\u001b[0m\n\u001b[0m\u001b[1;32m     42\u001b[0m         \u001b[0;32mreturn\u001b[0m \u001b[0mdist\u001b[0m\u001b[0;34m.\u001b[0m\u001b[0mlogpdf\u001b[0m\u001b[0;34m(\u001b[0m\u001b[0margs\u001b[0m\u001b[0;34m[\u001b[0m\u001b[0;36m1\u001b[0m\u001b[0;34m]\u001b[0m\u001b[0;34m,\u001b[0m \u001b[0;34m**\u001b[0m\u001b[0mkwargs\u001b[0m\u001b[0;34m)\u001b[0m\u001b[0;34m\u001b[0m\u001b[0;34m\u001b[0m\u001b[0m\n\u001b[1;32m     43\u001b[0m \u001b[0;34m\u001b[0m\u001b[0m\n",
      "\u001b[0;31mKeyError\u001b[0m: 'sigma'"
     ]
    }
   ],
   "source": [
    "sample_x = np.linspace(0, 10, 100)\n",
    "sample_y = pm.data_distribution.distribution.rvs(loc=pm.mean_model(sample_x), scale=pm.data_distribution.sigma)\n",
    "\n",
    "pm.ln_prob([pm.mean_model.slope, pm.mean_model.intercept, pm.data_distribution.sigma], sample_y)"
   ]
  },
  {
   "cell_type": "code",
   "execution_count": null,
   "metadata": {},
   "outputs": [],
   "source": []
  }
 ],
 "metadata": {
  "kernelspec": {
   "display_name": "Python 3",
   "language": "python",
   "name": "python3"
  },
  "language_info": {
   "codemirror_mode": {
    "name": "ipython",
    "version": 3
   },
   "file_extension": ".py",
   "mimetype": "text/x-python",
   "name": "python",
   "nbconvert_exporter": "python",
   "pygments_lexer": "ipython3",
   "version": "3.6.7"
  }
 },
 "nbformat": 4,
 "nbformat_minor": 2
}
