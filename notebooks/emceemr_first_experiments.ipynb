{
 "cells": [
  {
   "cell_type": "code",
   "execution_count": 137,
   "metadata": {},
   "outputs": [],
   "source": [
    "import collections"
   ]
  },
  {
   "cell_type": "code",
   "execution_count": 77,
   "metadata": {},
   "outputs": [],
   "source": [
    "import sys\n",
    "import numpy as np\n",
    "\n",
    "from astropy import units as u\n",
    "from astropy import table, modeling\n",
    "\n",
    "from scipy import stats"
   ]
  },
  {
   "cell_type": "code",
   "execution_count": 2,
   "metadata": {},
   "outputs": [
    {
     "data": {
      "text/plain": [
       "'3.0.0'"
      ]
     },
     "execution_count": 2,
     "metadata": {},
     "output_type": "execute_result"
    }
   ],
   "source": [
    "%matplotlib inline\n",
    "from matplotlib import pyplot as plt\n",
    "from mpl_toolkits.mplot3d import Axes3D\n",
    "\n",
    "from matplotlib import __version__ as mpl_vers\n",
    "mpl_vers"
   ]
  },
  {
   "cell_type": "code",
   "execution_count": 3,
   "metadata": {},
   "outputs": [],
   "source": [
    "pathtoinsert = '..'  # should have emceemr\n",
    "if pathtoinsert not in sys.path:\n",
    "    sys.path.insert(1, pathtoinsert)\n",
    "\n",
    "import emceemr"
   ]
  },
  {
   "cell_type": "code",
   "execution_count": 4,
   "metadata": {
    "collapsed": true
   },
   "outputs": [],
   "source": [
    "import inspect"
   ]
  },
  {
   "cell_type": "code",
   "execution_count": 5,
   "metadata": {},
   "outputs": [
    {
     "data": {
      "text/plain": [
       "(<class 'astropy.modeling.functional_models.Gaussian1D'>\n",
       "Name: Gaussian1D\n",
       "Inputs: ('x',)\n",
       "Outputs: ('y',)\n",
       "Fittable parameters: ('amplitude', 'mean', 'stddev'),\n",
       " <class 'astropy.modeling.core.Fittable1DModel'>,\n",
       " <class 'astropy.modeling.core.FittableModel'>,\n",
       " <class 'astropy.modeling.core.Model'>,\n",
       " object)"
      ]
     },
     "execution_count": 5,
     "metadata": {},
     "output_type": "execute_result"
    }
   ],
   "source": [
    "inspect.getmro(modeling.models.Gaussian1D)"
   ]
  },
  {
   "cell_type": "code",
   "execution_count": 61,
   "metadata": {},
   "outputs": [
    {
     "data": {
      "text/plain": [
       "(OrderedDict([('proby', Parameter('proby', default=0.5))]),\n",
       " OrderedDict([('amplitude', Parameter('amplitude', default=1)),\n",
       "              ('mean', Parameter('mean', default=0)),\n",
       "              ('stddev',\n",
       "               Parameter('stddev', default=1, bounds=(1.1754943508222875e-38, None))),\n",
       "              ('proby', Parameter('proby', default=0.5))]))"
      ]
     },
     "execution_count": 61,
     "metadata": {},
     "output_type": "execute_result"
    }
   ],
   "source": [
    "class ProbabilisticModel(modeling.Model):\n",
    "    pass\n",
    "\n",
    "class Test1(ProbabilisticModel, modeling.models.Gaussian1D):\n",
    "    _inherit_descriptors_ = (modeling.Parameter,)\n",
    "    proby = modeling.Parameter(default=0.5)\n",
    "    \n",
    "class Test2(modeling.models.Gaussian1D, ProbabilisticModel):\n",
    "    _inherit_descriptors_ = (modeling.Parameter,)\n",
    "    proby = modeling.Parameter(default=0.5)\n",
    "\n",
    "Test1._parameters_, Test2._parameters_"
   ]
  },
  {
   "cell_type": "code",
   "execution_count": 62,
   "metadata": {},
   "outputs": [
    {
     "data": {
      "text/plain": [
       "(OrderedDict([('amplitude', Parameter('amplitude', default=1)),\n",
       "              ('mean', Parameter('mean', default=0)),\n",
       "              ('stddev',\n",
       "               Parameter('stddev', default=1, bounds=(1.1754943508222875e-38, None))),\n",
       "              ('proby', Parameter('proby', default=0.5))]),\n",
       " OrderedDict([('amplitude', Parameter('amplitude', default=1)),\n",
       "              ('mean', Parameter('mean', default=0)),\n",
       "              ('stddev',\n",
       "               Parameter('stddev', default=1, bounds=(1.1754943508222875e-38, None))),\n",
       "              ('proby', Parameter('proby', default=0.5))]))"
      ]
     },
     "execution_count": 62,
     "metadata": {},
     "output_type": "execute_result"
    }
   ],
   "source": [
    "class ProbabilisticModel(modeling.Model):\n",
    "    _inherit_descriptors_ = (modeling.Parameter,)\n",
    "\n",
    "class Test1(ProbabilisticModel, modeling.models.Gaussian1D):\n",
    "    proby = modeling.Parameter(default=0.5)\n",
    "    \n",
    "class Test2(modeling.models.Gaussian1D, ProbabilisticModel):\n",
    "    proby = modeling.Parameter(default=0.5)\n",
    "\n",
    "Test1._parameters_, Test2._parameters_"
   ]
  },
  {
   "cell_type": "code",
   "execution_count": 63,
   "metadata": {},
   "outputs": [],
   "source": [
    "class ProbabilisticModel(modeling.Model):\n",
    "    _inherit_descriptors_ = (modeling.Parameter,)\n",
    "    \n",
    "    \n",
    "    "
   ]
  },
  {
   "cell_type": "markdown",
   "metadata": {},
   "source": [
    "Base API: ProbabilisticModel should have a mean model and a noise model.\n",
    "\n",
    "Noise Model should take the mean model + data and output a log-prob of the same shape as the mean model output.  Form can be one of\n",
    " * modeling model that returns log-prob given whole mean-model (one of the parameters is the mean-model part)?\n",
    " * modeling model that returns prob given whole mean-model (one of the parameters is the mean-model part)?\n",
    " * scipy.stats probability distribution. need to figure out how to get parameters...\n",
    " * callable that takes in log-prob\n",
    "    \n",
    "For experimentation, use a linear mean model and gaussian noise model"
   ]
  },
  {
   "cell_type": "code",
   "execution_count": 76,
   "metadata": {},
   "outputs": [],
   "source": [
    "ndata = 100\n",
    "\n",
    "mean_model = modeling.models.Linear1D(slope=2, intercept=1)\n",
    "noise_model = modeling.models.Gaussian1D(mean = np.random.randn(ndata))"
   ]
  },
  {
   "cell_type": "code",
   "execution_count": 103,
   "metadata": {},
   "outputs": [
    {
     "data": {
      "text/plain": [
       "'a, b'"
      ]
     },
     "execution_count": 103,
     "metadata": {},
     "output_type": "execute_result"
    }
   ],
   "source": [
    "stats.beta.shapes"
   ]
  },
  {
   "cell_type": "code",
   "execution_count": 132,
   "metadata": {},
   "outputs": [
    {
     "data": {
      "text/plain": [
       "((1, 2), 0, 3)"
      ]
     },
     "execution_count": 132,
     "metadata": {},
     "output_type": "execute_result"
    }
   ],
   "source": [
    "f = stats.beta(1, 2, scale=3)\n",
    "f.dist._parse_args(*f.args, **f.kwds)"
   ]
  },
  {
   "cell_type": "code",
   "execution_count": 134,
   "metadata": {},
   "outputs": [
    {
     "data": {
      "text/plain": [
       "((2,), 3, 1)"
      ]
     },
     "execution_count": 134,
     "metadata": {},
     "output_type": "execute_result"
    }
   ],
   "source": [
    "f = stats.alpha(2, loc=3)\n",
    "f.dist._parse_args(*f.args, **f.kwds)"
   ]
  },
  {
   "cell_type": "code",
   "execution_count": 262,
   "metadata": {},
   "outputs": [
    {
     "data": {
      "text/plain": [
       "-1.4189385332046727"
      ]
     },
     "execution_count": 262,
     "metadata": {},
     "output_type": "execute_result"
    }
   ],
   "source": [
    "stats.norm.logpdf(0, loc=1)"
   ]
  },
  {
   "cell_type": "code",
   "execution_count": 260,
   "metadata": {},
   "outputs": [
    {
     "data": {
      "text/plain": [
       "'BetaLogPDFModel'"
      ]
     },
     "execution_count": 260,
     "metadata": {},
     "output_type": "execute_result"
    }
   ],
   "source": [
    "Mod.name\n"
   ]
  },
  {
   "cell_type": "code",
   "execution_count": 237,
   "metadata": {},
   "outputs": [
    {
     "data": {
      "text/plain": [
       "<class '__main__.BetaLogPDFModel'>\n",
       "Name: BetaLogPDFModel\n",
       "Inputs: ('x',)\n",
       "Outputs: ('logpdf',)\n",
       "Fittable parameters: ('a', 'b', 'prob_loc', 'prob_scale')"
      ]
     },
     "execution_count": 237,
     "metadata": {},
     "output_type": "execute_result"
    }
   ],
   "source": [
    "def generate_logpdfmodel_class(frozen_distribution, scale_param_name='prob_scale', location_param_name='prob_loc', data_param_name='prob_loc'):\n",
    "    dist = frozen_distribution.dist\n",
    "    other_params, loc, scale = dist._parse_args(*frozen_distribution.args, **frozen_distribution.kwds)\n",
    "    other_param_names = [] if dist.shapes is None else dist.shapes.split(', ')\n",
    "\n",
    "    assert len(other_params) == len(other_param_names), 'This stats object seems messed up - the names of the parameters do not match the number of parameters'\n",
    "\n",
    "    # order matters here!  most go \"other parameters in order, loc, scale\"\n",
    "    params = []\n",
    "    for nm, p in zip(other_param_names, other_params):\n",
    "        params.append(modeling.Parameter(name=nm, default=p))\n",
    "    params.append(modeling.Parameter(name=location_param_name, default=loc, description='distribution location parameter'))\n",
    "    params.append(modeling.Parameter(name=scale_param_name, default=scale, description='distribution scale parameter'))\n",
    "\n",
    "    params = collections.OrderedDict(((p.name, p) for p in params))\n",
    "    \n",
    "    members = {}\n",
    "    \n",
    "    def tester(*args, **kwargs):\n",
    "        print(args, kwargs)\n",
    "        return dist.logpdf(*args, **kwargs)\n",
    "        \n",
    "    \n",
    "    mod = find_current_module(1)\n",
    "    modname = mod.__name__ if mod else '__main__'\n",
    "    \n",
    "    members = {\n",
    "        '__module__': str(modname),\n",
    "        'distribution': dist,\n",
    "        'inputs': ('x',),\n",
    "        'outputs': ('logpdf',),\n",
    "        'evaluate': staticmethod(dist.logpdf),\n",
    "    }\n",
    "    members.update(params)\n",
    "    \n",
    "    return type(dist.name.title() + 'LogPDFModel', (modeling.FittableModel,), members)\n",
    "    \n",
    "    \n",
    "Mod = generate_logpdfmodel_class(stats.beta(1,2, scale=3))\n",
    "Mod"
   ]
  },
  {
   "cell_type": "code",
   "execution_count": 240,
   "metadata": {},
   "outputs": [
    {
     "data": {
      "text/plain": [
       "(-0.8109302162163288, -0.8109302162163288)"
      ]
     },
     "execution_count": 240,
     "metadata": {},
     "output_type": "execute_result"
    }
   ],
   "source": [
    "mod = Mod()\n",
    "mod(1), stats.beta.logpdf(1, 1, 2, scale=3)"
   ]
  },
  {
   "cell_type": "code",
   "execution_count": 257,
   "metadata": {},
   "outputs": [
    {
     "data": {
      "text/plain": [
       "<class '__main__.NormLogPDFModel'>\n",
       "Name: NormLogPDFModel\n",
       "Inputs: ('x',)\n",
       "Outputs: ('logpdf',)\n",
       "Fittable parameters: ('prob_loc', 'sigma')"
      ]
     },
     "execution_count": 257,
     "metadata": {},
     "output_type": "execute_result"
    }
   ],
   "source": [
    "Mod2 = generate_logpdfmodel_class(stats.norm(scale=1), scale_param_name='sigma')\n",
    "Mod2"
   ]
  },
  {
   "cell_type": "code",
   "execution_count": 258,
   "metadata": {},
   "outputs": [
    {
     "data": {
      "text/plain": [
       "array([-0.91893853, -1.41893853])"
      ]
     },
     "execution_count": 258,
     "metadata": {},
     "output_type": "execute_result"
    }
   ],
   "source": [
    "mod = Mod2(prob_loc=[0, 1])\n",
    "mod(0)"
   ]
  }
 ],
 "metadata": {
  "kernelspec": {
   "display_name": "Python (astro36)",
   "language": "python",
   "name": "astro36"
  },
  "language_info": {
   "codemirror_mode": {
    "name": "ipython",
    "version": 3
   },
   "file_extension": ".py",
   "mimetype": "text/x-python",
   "name": "python",
   "nbconvert_exporter": "python",
   "pygments_lexer": "ipython3",
   "version": "3.6.7"
  }
 },
 "nbformat": 4,
 "nbformat_minor": 2
}
