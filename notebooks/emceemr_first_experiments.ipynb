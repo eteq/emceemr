{
 "cells": [
  {
   "cell_type": "code",
   "execution_count": 137,
   "metadata": {},
   "outputs": [],
   "source": [
    "import collections"
   ]
  },
  {
   "cell_type": "code",
   "execution_count": 77,
   "metadata": {},
   "outputs": [],
   "source": [
    "import sys\n",
    "import numpy as np\n",
    "\n",
    "from astropy import units as u\n",
    "from astropy import table, modeling\n",
    "\n",
    "from scipy import stats"
   ]
  },
  {
   "cell_type": "code",
   "execution_count": 2,
   "metadata": {},
   "outputs": [
    {
     "data": {
      "text/plain": [
       "'3.0.0'"
      ]
     },
     "execution_count": 2,
     "metadata": {},
     "output_type": "execute_result"
    }
   ],
   "source": [
    "%matplotlib inline\n",
    "from matplotlib import pyplot as plt\n",
    "from mpl_toolkits.mplot3d import Axes3D\n",
    "\n",
    "from matplotlib import __version__ as mpl_vers\n",
    "mpl_vers"
   ]
  },
  {
   "cell_type": "code",
   "execution_count": 3,
   "metadata": {},
   "outputs": [],
   "source": [
    "pathtoinsert = '..'  # should have emceemr\n",
    "if pathtoinsert not in sys.path:\n",
    "    sys.path.insert(1, pathtoinsert)\n",
    "\n",
    "import emceemr"
   ]
  },
  {
   "cell_type": "code",
   "execution_count": 4,
   "metadata": {
    "collapsed": true
   },
   "outputs": [],
   "source": [
    "import inspect"
   ]
  },
  {
   "cell_type": "code",
   "execution_count": 5,
   "metadata": {},
   "outputs": [
    {
     "data": {
      "text/plain": [
       "(<class 'astropy.modeling.functional_models.Gaussian1D'>\n",
       "Name: Gaussian1D\n",
       "Inputs: ('x',)\n",
       "Outputs: ('y',)\n",
       "Fittable parameters: ('amplitude', 'mean', 'stddev'),\n",
       " <class 'astropy.modeling.core.Fittable1DModel'>,\n",
       " <class 'astropy.modeling.core.FittableModel'>,\n",
       " <class 'astropy.modeling.core.Model'>,\n",
       " object)"
      ]
     },
     "execution_count": 5,
     "metadata": {},
     "output_type": "execute_result"
    }
   ],
   "source": [
    "inspect.getmro(modeling.models.Gaussian1D)"
   ]
  },
  {
   "cell_type": "code",
   "execution_count": 61,
   "metadata": {},
   "outputs": [
    {
     "data": {
      "text/plain": [
       "(OrderedDict([('proby', Parameter('proby', default=0.5))]),\n",
       " OrderedDict([('amplitude', Parameter('amplitude', default=1)),\n",
       "              ('mean', Parameter('mean', default=0)),\n",
       "              ('stddev',\n",
       "               Parameter('stddev', default=1, bounds=(1.1754943508222875e-38, None))),\n",
       "              ('proby', Parameter('proby', default=0.5))]))"
      ]
     },
     "execution_count": 61,
     "metadata": {},
     "output_type": "execute_result"
    }
   ],
   "source": [
    "class ProbabilisticModel(modeling.Model):\n",
    "    pass\n",
    "\n",
    "class Test1(ProbabilisticModel, modeling.models.Gaussian1D):\n",
    "    _inherit_descriptors_ = (modeling.Parameter,)\n",
    "    proby = modeling.Parameter(default=0.5)\n",
    "    \n",
    "class Test2(modeling.models.Gaussian1D, ProbabilisticModel):\n",
    "    _inherit_descriptors_ = (modeling.Parameter,)\n",
    "    proby = modeling.Parameter(default=0.5)\n",
    "\n",
    "Test1._parameters_, Test2._parameters_"
   ]
  },
  {
   "cell_type": "code",
   "execution_count": 62,
   "metadata": {},
   "outputs": [
    {
     "data": {
      "text/plain": [
       "(OrderedDict([('amplitude', Parameter('amplitude', default=1)),\n",
       "              ('mean', Parameter('mean', default=0)),\n",
       "              ('stddev',\n",
       "               Parameter('stddev', default=1, bounds=(1.1754943508222875e-38, None))),\n",
       "              ('proby', Parameter('proby', default=0.5))]),\n",
       " OrderedDict([('amplitude', Parameter('amplitude', default=1)),\n",
       "              ('mean', Parameter('mean', default=0)),\n",
       "              ('stddev',\n",
       "               Parameter('stddev', default=1, bounds=(1.1754943508222875e-38, None))),\n",
       "              ('proby', Parameter('proby', default=0.5))]))"
      ]
     },
     "execution_count": 62,
     "metadata": {},
     "output_type": "execute_result"
    }
   ],
   "source": [
    "class ProbabilisticModel(modeling.Model):\n",
    "    _inherit_descriptors_ = (modeling.Parameter,)\n",
    "\n",
    "class Test1(ProbabilisticModel, modeling.models.Gaussian1D):\n",
    "    proby = modeling.Parameter(default=0.5)\n",
    "    \n",
    "class Test2(modeling.models.Gaussian1D, ProbabilisticModel):\n",
    "    proby = modeling.Parameter(default=0.5)\n",
    "\n",
    "Test1._parameters_, Test2._parameters_"
   ]
  },
  {
   "cell_type": "code",
   "execution_count": 63,
   "metadata": {},
   "outputs": [],
   "source": [
    "class ProbabilisticModel(modeling.Model):\n",
    "    _inherit_descriptors_ = (modeling.Parameter,)\n",
    "    \n",
    "    \n",
    "    "
   ]
  },
  {
   "cell_type": "markdown",
   "metadata": {},
   "source": [
    "Base API: ProbabilisticModel should have a mean model and a noise model.\n",
    "\n",
    "Noise Model should take the mean model + data and output a log-prob of the same shape as the mean model output.  Form can be one of\n",
    " * modeling model that returns log-prob given whole mean-model (one of the parameters is the mean-model part)?\n",
    " * modeling model that returns prob given whole mean-model (one of the parameters is the mean-model part)?\n",
    " * scipy.stats probability distribution. need to figure out how to get parameters...\n",
    " * callable that takes in log-prob\n",
    "    \n",
    "For experimentation, use a linear mean model and gaussian noise model"
   ]
  },
  {
   "cell_type": "code",
   "execution_count": 76,
   "metadata": {},
   "outputs": [],
   "source": [
    "mean_model = modeling.models.Linear1D(slope=2, intercept=1)"
   ]
  },
  {
   "cell_type": "markdown",
   "metadata": {},
   "source": [
    "Need to make the log-prob model:"
   ]
  },
  {
   "cell_type": "code",
   "execution_count": 237,
   "metadata": {},
   "outputs": [
    {
     "data": {
      "text/plain": [
       "<class '__main__.BetaLogPDFModel'>\n",
       "Name: BetaLogPDFModel\n",
       "Inputs: ('x',)\n",
       "Outputs: ('logpdf',)\n",
       "Fittable parameters: ('a', 'b', 'prob_loc', 'prob_scale')"
      ]
     },
     "execution_count": 237,
     "metadata": {},
     "output_type": "execute_result"
    }
   ],
   "source": [
    "def generate_logpdfmodel_class(frozen_distribution, scale_param_name='prob_scale', location_param_name='prob_loc', data_param_name='prob_loc'):\n",
    "    dist = frozen_distribution.dist\n",
    "    other_params, loc, scale = dist._parse_args(*frozen_distribution.args, **frozen_distribution.kwds)\n",
    "    other_param_names = [] if dist.shapes is None else dist.shapes.split(', ')\n",
    "\n",
    "    assert len(other_params) == len(other_param_names), 'This stats object seems messed up - the names of the parameters do not match the number of parameters'\n",
    "\n",
    "    # order matters here!  most go \"other parameters in order, loc, scale\"\n",
    "    params = []\n",
    "    for nm, p in zip(other_param_names, other_params):\n",
    "        params.append(modeling.Parameter(name=nm, default=p))\n",
    "    params.append(modeling.Parameter(name=location_param_name, default=loc, description='distribution location parameter'))\n",
    "    params.append(modeling.Parameter(name=scale_param_name, default=scale, description='distribution scale parameter'))\n",
    "\n",
    "    params = collections.OrderedDict(((p.name, p) for p in params))\n",
    "    \n",
    "    members = {}\n",
    "    \n",
    "    def tester(*args, **kwargs):\n",
    "        print(args, kwargs)\n",
    "        return dist.logpdf(*args, **kwargs)\n",
    "        \n",
    "    \n",
    "    mod = find_current_module(1)\n",
    "    modname = mod.__name__ if mod else '__main__'\n",
    "    \n",
    "    members = {\n",
    "        '__module__': str(modname),\n",
    "        'distribution': dist,\n",
    "        'inputs': ('x',),\n",
    "        'outputs': ('logpdf',),\n",
    "        'evaluate': staticmethod(dist.logpdf),\n",
    "    }\n",
    "    members.update(params)\n",
    "    \n",
    "    return type(dist.name.title() + 'LogPDFModel', (modeling.FittableModel,), members)\n",
    "    \n",
    "    \n",
    "Mod = generate_logpdfmodel_class(stats.beta(1,2, scale=3))\n",
    "Mod"
   ]
  },
  {
   "cell_type": "code",
   "execution_count": 240,
   "metadata": {},
   "outputs": [
    {
     "data": {
      "text/plain": [
       "(-0.8109302162163288, -0.8109302162163288)"
      ]
     },
     "execution_count": 240,
     "metadata": {},
     "output_type": "execute_result"
    }
   ],
   "source": [
    "mod = Mod()\n",
    "mod(1), stats.beta.logpdf(1, 1, 2, scale=3)"
   ]
  },
  {
   "cell_type": "code",
   "execution_count": 257,
   "metadata": {},
   "outputs": [
    {
     "data": {
      "text/plain": [
       "<class '__main__.NormLogPDFModel'>\n",
       "Name: NormLogPDFModel\n",
       "Inputs: ('x',)\n",
       "Outputs: ('logpdf',)\n",
       "Fittable parameters: ('prob_loc', 'sigma')"
      ]
     },
     "execution_count": 257,
     "metadata": {},
     "output_type": "execute_result"
    }
   ],
   "source": [
    "Mod2 = generate_logpdfmodel_class(stats.norm(scale=1), scale_param_name='sigma')\n",
    "Mod2"
   ]
  },
  {
   "cell_type": "code",
   "execution_count": 258,
   "metadata": {},
   "outputs": [
    {
     "data": {
      "text/plain": [
       "array([-0.91893853, -1.41893853])"
      ]
     },
     "execution_count": 258,
     "metadata": {},
     "output_type": "execute_result"
    }
   ],
   "source": [
    "mod = Mod2(prob_loc=[0, 1])\n",
    "mod(0)"
   ]
  },
  {
   "cell_type": "markdown",
   "metadata": {},
   "source": [
    "Now try the core functionality"
   ]
  },
  {
   "cell_type": "code",
   "execution_count": 266,
   "metadata": {},
   "outputs": [
    {
     "data": {
      "text/plain": [
       "<class '__main__.NormLogPDFModel'>\n",
       "Name: NormLogPDFModel\n",
       "Inputs: ('x',)\n",
       "Outputs: ('logpdf',)\n",
       "Fittable parameters: ('mu', 'sigma')"
      ]
     },
     "execution_count": 266,
     "metadata": {},
     "output_type": "execute_result"
    }
   ],
   "source": [
    "noise_model_class = generate_logpdfmodel_class(stats.norm(), location_param_name='mu', scale_param_name='sigma')\n",
    "noise_model_class"
   ]
  },
  {
   "cell_type": "code",
   "execution_count": 268,
   "metadata": {},
   "outputs": [
    {
     "data": {
      "text/plain": [
       "<NormLogPDFModel(mu=0., sigma=1.)>"
      ]
     },
     "execution_count": 268,
     "metadata": {},
     "output_type": "execute_result"
    }
   ],
   "source": [
    "noise_model = noise_model_class()\n",
    "noise_model"
   ]
  },
  {
   "cell_type": "code",
   "execution_count": 272,
   "metadata": {},
   "outputs": [
    {
     "data": {
      "text/plain": [
       "-0.9189385332046727"
      ]
     },
     "execution_count": 272,
     "metadata": {},
     "output_type": "execute_result"
    }
   ],
   "source": [
    "combined_model(-.5)"
   ]
  },
  {
   "cell_type": "markdown",
   "metadata": {},
   "source": [
    "That's not quite right because the model is going in as the *input* not the mean..."
   ]
  },
  {
   "cell_type": "code",
   "execution_count": 284,
   "metadata": {},
   "outputs": [
    {
     "ename": "ModelDefinitionError",
     "evalue": "Unsupported operands for |: None (n_inputs=2, n_outputs=2) and None (n_inputs=1, n_outputs=1); n_outputs for the left-hand model must match n_inputs for the right-hand model.",
     "output_type": "error",
     "traceback": [
      "\u001b[0;31m---------------------------------------------------------------------------\u001b[0m",
      "\u001b[0;31mModelDefinitionError\u001b[0m                      Traceback (most recent call last)",
      "\u001b[0;32m<ipython-input-284-4304f43f1bfa>\u001b[0m in \u001b[0;36m<module>\u001b[0;34m()\u001b[0m\n\u001b[0;32m----> 1\u001b[0;31m \u001b[0mcombined_model\u001b[0m \u001b[0;34m=\u001b[0m \u001b[0;34m(\u001b[0m\u001b[0mmean_model\u001b[0m \u001b[0;34m&\u001b[0m \u001b[0mmodeling\u001b[0m\u001b[0;34m.\u001b[0m\u001b[0mmodels\u001b[0m\u001b[0;34m.\u001b[0m\u001b[0mIdentity\u001b[0m\u001b[0;34m(\u001b[0m\u001b[0;36m1\u001b[0m\u001b[0;34m)\u001b[0m\u001b[0;34m)\u001b[0m \u001b[0;34m|\u001b[0m \u001b[0mnoise_model\u001b[0m\u001b[0;34m\u001b[0m\u001b[0;34m\u001b[0m\u001b[0m\n\u001b[0m\u001b[1;32m      2\u001b[0m \u001b[0mcombined_model\u001b[0m\u001b[0;34m\u001b[0m\u001b[0;34m\u001b[0m\u001b[0m\n",
      "\u001b[0;32m~/miniconda3/envs/astro36/lib/python3.6/site-packages/astropy/modeling/core.py\u001b[0m in \u001b[0;36m<lambda>\u001b[0;34m(left, right)\u001b[0m\n\u001b[1;32m     73\u001b[0m     \u001b[0;31m# Perform an arithmetic operation on two models.\u001b[0m\u001b[0;34m\u001b[0m\u001b[0;34m\u001b[0m\u001b[0;34m\u001b[0m\u001b[0m\n\u001b[1;32m     74\u001b[0m     return lambda left, right: _CompoundModelMeta._from_operator(oper, left,\n\u001b[0;32m---> 75\u001b[0;31m                                                                  right, **kwargs)\n\u001b[0m\u001b[1;32m     76\u001b[0m \u001b[0;34m\u001b[0m\u001b[0m\n\u001b[1;32m     77\u001b[0m \u001b[0;34m\u001b[0m\u001b[0m\n",
      "\u001b[0;32m~/miniconda3/envs/astro36/lib/python3.6/site-packages/astropy/modeling/core.py\u001b[0m in \u001b[0;36m_from_operator\u001b[0;34m(mcls, operator, left, right, additional_members)\u001b[0m\n\u001b[1;32m   2421\u001b[0m                 \u001b[0mchildren\u001b[0m\u001b[0;34m.\u001b[0m\u001b[0mappend\u001b[0m\u001b[0;34m(\u001b[0m\u001b[0mExpressionTree\u001b[0m\u001b[0;34m(\u001b[0m\u001b[0mchild\u001b[0m\u001b[0;34m,\u001b[0m \u001b[0minputs\u001b[0m\u001b[0;34m=\u001b[0m\u001b[0mchild\u001b[0m\u001b[0;34m.\u001b[0m\u001b[0minputs\u001b[0m\u001b[0;34m,\u001b[0m \u001b[0moutputs\u001b[0m\u001b[0;34m=\u001b[0m\u001b[0mchild\u001b[0m\u001b[0;34m.\u001b[0m\u001b[0moutputs\u001b[0m\u001b[0;34m)\u001b[0m\u001b[0;34m)\u001b[0m\u001b[0;34m\u001b[0m\u001b[0;34m\u001b[0m\u001b[0m\n\u001b[1;32m   2422\u001b[0m \u001b[0;34m\u001b[0m\u001b[0m\n\u001b[0;32m-> 2423\u001b[0;31m         \u001b[0minputs\u001b[0m\u001b[0;34m,\u001b[0m \u001b[0moutputs\u001b[0m \u001b[0;34m=\u001b[0m \u001b[0mmcls\u001b[0m\u001b[0;34m.\u001b[0m\u001b[0m_check_inputs_and_outputs\u001b[0m\u001b[0;34m(\u001b[0m\u001b[0moperator\u001b[0m\u001b[0;34m,\u001b[0m \u001b[0mleft\u001b[0m\u001b[0;34m,\u001b[0m \u001b[0mright\u001b[0m\u001b[0;34m)\u001b[0m\u001b[0;34m\u001b[0m\u001b[0;34m\u001b[0m\u001b[0m\n\u001b[0m\u001b[1;32m   2424\u001b[0m \u001b[0;34m\u001b[0m\u001b[0m\n\u001b[1;32m   2425\u001b[0m         tree = ExpressionTree(operator, left=children[0], right=children[1],\n",
      "\u001b[0;32m~/miniconda3/envs/astro36/lib/python3.6/site-packages/astropy/modeling/core.py\u001b[0m in \u001b[0;36m_check_inputs_and_outputs\u001b[0;34m(mcls, operator, left, right)\u001b[0m\n\u001b[1;32m   2499\u001b[0m                     \"for the right-hand model.\".format(\n\u001b[1;32m   2500\u001b[0m                         \u001b[0mleft\u001b[0m\u001b[0;34m.\u001b[0m\u001b[0mname\u001b[0m\u001b[0;34m,\u001b[0m \u001b[0mleft\u001b[0m\u001b[0;34m.\u001b[0m\u001b[0mn_inputs\u001b[0m\u001b[0;34m,\u001b[0m \u001b[0mleft\u001b[0m\u001b[0;34m.\u001b[0m\u001b[0mn_outputs\u001b[0m\u001b[0;34m,\u001b[0m \u001b[0mright\u001b[0m\u001b[0;34m.\u001b[0m\u001b[0mname\u001b[0m\u001b[0;34m,\u001b[0m\u001b[0;34m\u001b[0m\u001b[0;34m\u001b[0m\u001b[0m\n\u001b[0;32m-> 2501\u001b[0;31m                         right.n_inputs, right.n_outputs))\n\u001b[0m\u001b[1;32m   2502\u001b[0m         \u001b[0;32melif\u001b[0m \u001b[0moperator\u001b[0m \u001b[0;34m==\u001b[0m \u001b[0;34m'&'\u001b[0m\u001b[0;34m:\u001b[0m\u001b[0;34m\u001b[0m\u001b[0;34m\u001b[0m\u001b[0m\n\u001b[1;32m   2503\u001b[0m \u001b[0;34m\u001b[0m\u001b[0m\n",
      "\u001b[0;31mModelDefinitionError\u001b[0m: Unsupported operands for |: None (n_inputs=2, n_outputs=2) and None (n_inputs=1, n_outputs=1); n_outputs for the left-hand model must match n_inputs for the right-hand model."
     ]
    }
   ],
   "source": [
    "combined_model = (mean_model & modeling.models.Identity(1)) | noise_model\n",
    "combined_model"
   ]
  },
  {
   "cell_type": "code",
   "execution_count": 445,
   "metadata": {},
   "outputs": [
    {
     "data": {
      "text/plain": [
       "(<NormLogPDFModel(sigma=3.)>, ('mean_model_result', 'data'))"
      ]
     },
     "execution_count": 445,
     "metadata": {},
     "output_type": "execute_result"
    }
   ],
   "source": [
    "def generate_logpdfmodel_class(frozen_distribution,\n",
    "                               scale_param_name='prob_scale',\n",
    "                               location_param_name='prob_loc',\n",
    "                               mean_model_param_name=None):\n",
    "    \"\"\"\n",
    "    mean_model_param_name = None means \"whatever the location parameter is\"\n",
    "    \"\"\"\n",
    "    if mean_model_param_name is None:\n",
    "        mean_model_param_name = location_param_name\n",
    "    \n",
    "\n",
    "    dist = frozen_distribution.dist\n",
    "    other_params, loc, scale = dist._parse_args(*frozen_distribution.args, **frozen_distribution.kwds)\n",
    "    other_param_names = [] if dist.shapes is None else dist.shapes.split(', ')\n",
    "\n",
    "    assert len(other_params) == len(other_param_names), 'This stats object seems messed up - the names of the parameters do not match the number of parameters'\n",
    "\n",
    "    # order matters here!  most go \"other parameters in order, loc, scale\"\n",
    "    params = []\n",
    "    for nm, p in zip(other_param_names, other_params):\n",
    "        params.append(modeling.Parameter(name=nm, default=p))\n",
    "    params.append(modeling.Parameter(name=location_param_name, default=loc, description='distribution location parameter'))\n",
    "    params.append(modeling.Parameter(name=scale_param_name, default=scale, description='distribution scale parameter'))\n",
    "\n",
    "    params = collections.OrderedDict(((p.name, p) for p in params if p.name != mean_model_param_name))\n",
    "\n",
    "    mod = find_current_module(2)\n",
    "    modname = mod.__name__ if mod else '__main__'\n",
    "\n",
    "    def log_pdf_with_meanmodel(*args):\n",
    "        kwargs = dict(zip(params.keys(), args[2:]))\n",
    "        kwargs[mean_model_param_name] = args[0]\n",
    "        kwargs['loc'] = kwargs.pop(location_param_name)\n",
    "        kwargs['scale'] = kwargs.pop(scale_param_name)\n",
    "        return dist.logpdf(args[1], **kwargs)\n",
    "\n",
    "    members = {\n",
    "        '__module__': str(modname),\n",
    "        'distribution': dist,\n",
    "        'inputs': ('mean_model_result', 'data'),\n",
    "        'outputs': ('logpdf',),\n",
    "        'evaluate': staticmethod(log_pdf_with_meanmodel),\n",
    "    }\n",
    "    members.update(params)\n",
    "\n",
    "    return type(dist.name.title() + 'LogPDFModel', (modeling.FittableModel,), members)\n",
    "\n",
    "\n",
    "noise_model_class = generate_logpdfmodel_class(stats.norm(scale=3), location_param_name='mu', scale_param_name='sigma')\n",
    "noise_model = noise_model_class()\n",
    "noise_model, noise_model.inputs"
   ]
  },
  {
   "cell_type": "code",
   "execution_count": 435,
   "metadata": {},
   "outputs": [
    {
     "data": {
      "text/plain": [
       "<CompoundModel31(slope_0=2., intercept_0=1., sigma_2=3.)>"
      ]
     },
     "execution_count": 435,
     "metadata": {},
     "output_type": "execute_result"
    }
   ],
   "source": [
    "combined_model = (mean_model & modeling.models.Identity(1)) | noise_model\n",
    "combined_model"
   ]
  },
  {
   "cell_type": "code",
   "execution_count": 479,
   "metadata": {},
   "outputs": [
    {
     "data": {
      "text/plain": [
       "array([-2.34267499, -4.57966261, -2.20401517, -2.29015737, -2.26892684,\n",
       "       -2.15415056, -2.46169289, -2.02375236, -3.12894326, -4.49454868,\n",
       "       -2.0217792 , -2.32510766, -2.13282006, -2.056245  , -2.01896156,\n",
       "       -2.03757629, -5.88981613, -2.72974624, -2.19190655, -3.1453294 ,\n",
       "       -2.10527021, -2.16968605, -2.02178052, -2.03746201, -2.14779728,\n",
       "       -2.03132216, -2.05864648, -2.01868587, -2.61030774, -3.02905464,\n",
       "       -2.24851089, -2.89540211, -2.04513161, -2.08988475, -2.16508251,\n",
       "       -2.11800775, -2.06469794, -2.85593064, -2.12104276, -2.11385576,\n",
       "       -2.23298951, -2.02039691, -2.25548736, -2.02548182, -2.04734421,\n",
       "       -2.26911363, -2.06577932, -2.24251054, -2.85190064, -2.21274229,\n",
       "       -2.23825484, -2.01870975, -2.35905875, -2.03295247, -2.71184412,\n",
       "       -3.33013869, -2.03413908, -2.10370171, -2.04117491, -2.14883203,\n",
       "       -2.39110397, -2.05842501, -2.04228434, -2.19680813, -3.6055882 ,\n",
       "       -2.13061048, -2.18768396, -2.36305862, -2.46229406, -2.01928591,\n",
       "       -2.07201608, -2.04945894, -2.36246927, -2.27072533, -2.03766331,\n",
       "       -2.05647355, -2.02296921, -2.63174507, -2.51910033, -2.06952289,\n",
       "       -2.09674299, -2.57851523, -2.0177201 , -3.23068211, -2.56964006,\n",
       "       -2.21481944, -2.16079857, -2.07873879, -2.01836915, -2.02520269,\n",
       "       -2.01801593, -2.29666145, -2.02109539, -2.27292588, -2.19590732,\n",
       "       -2.01756028, -2.1296973 , -2.06089799, -2.29796385, -2.53561375])"
      ]
     },
     "execution_count": 479,
     "metadata": {},
     "output_type": "execute_result"
    },
    {
     "data": {
      "image/png": "[encoded data removed]",
      "text/plain": [
       "<Figure size 432x288 with 1 Axes>"
      ]
     },
     "metadata": {
      "needs_background": "light"
     },
     "output_type": "display_data"
    }
   ],
   "source": [
    "example_x = np.linspace(0, 10, 100)\n",
    "example_y = noise_model.distribution.rvs(loc=mean_model(example_x), scale=noise_model.sigma)\n",
    "\n",
    "plt.scatter(example_x, example_y)\n",
    "plt.plot(example_x, mean_model(example_x),c='k')\n",
    "\n",
    "combined_model(example_x, example_y)"
   ]
  },
  {
   "cell_type": "markdown",
   "metadata": {},
   "source": [
    "This composition leads to awkward model names, and working with the distribution is rather challenging.  Maybe generate a new model class in the same way, and get frozen distributions on demand? But that's a substantial re-work, best done in a new notebook."
   ]
  },
  {
   "cell_type": "markdown",
   "metadata": {},
   "source": [
    "# Aside: for what n does function call overhead dominate? "
   ]
  },
  {
   "cell_type": "code",
   "execution_count": 373,
   "metadata": {},
   "outputs": [
    {
     "name": "stdout",
     "output_type": "stream",
     "text": [
      "n= 1\n",
      "3.48 µs ± 30.2 ns per loop (mean ± std. dev. of 7 runs, 100000 loops each)\n",
      "n= 2\n",
      "3.58 µs ± 28.1 ns per loop (mean ± std. dev. of 7 runs, 100000 loops each)\n",
      "n= 5\n",
      "3.52 µs ± 30.6 ns per loop (mean ± std. dev. of 7 runs, 100000 loops each)\n",
      "n= 10\n",
      "3.56 µs ± 43.6 ns per loop (mean ± std. dev. of 7 runs, 100000 loops each)\n",
      "n= 20\n",
      "3.52 µs ± 27.6 ns per loop (mean ± std. dev. of 7 runs, 100000 loops each)\n",
      "n= 50\n",
      "3.58 µs ± 48.4 ns per loop (mean ± std. dev. of 7 runs, 100000 loops each)\n",
      "n= 100\n",
      "3.62 µs ± 34.9 ns per loop (mean ± std. dev. of 7 runs, 100000 loops each)\n",
      "n= 200\n",
      "4.24 µs ± 42.3 ns per loop (mean ± std. dev. of 7 runs, 100000 loops each)\n",
      "n= 500\n",
      "4.88 µs ± 192 ns per loop (mean ± std. dev. of 7 runs, 100000 loops each)\n",
      "n= 1000\n",
      "6.7 µs ± 359 ns per loop (mean ± std. dev. of 7 runs, 100000 loops each)\n",
      "n= 5000\n",
      "13.8 µs ± 390 ns per loop (mean ± std. dev. of 7 runs, 100000 loops each)\n",
      "n= 10000\n",
      "26.3 µs ± 503 ns per loop (mean ± std. dev. of 7 runs, 10000 loops each)\n",
      "n= 50000\n",
      "127 µs ± 4.18 µs per loop (mean ± std. dev. of 7 runs, 10000 loops each)\n",
      "n= 100000\n",
      "233 µs ± 4.4 µs per loop (mean ± std. dev. of 7 runs, 1000 loops each)\n"
     ]
    },
    {
     "data": {
      "text/plain": [
       "[<matplotlib.lines.Line2D at 0x1a1b4b7cf8>]"
      ]
     },
     "execution_count": 373,
     "metadata": {},
     "output_type": "execute_result"
    },
    {
     "data": {
      "image/png": "[encoded data removed]",
      "text/plain": [
       "<Figure size 432x288 with 1 Axes>"
      ]
     },
     "metadata": {
      "needs_background": "light"
     },
     "output_type": "display_data"
    }
   ],
   "source": [
    "def f(a):\n",
    "    return (a + 100)*12.3\n",
    "\n",
    "def g(b):\n",
    "    return f(b) + b*2.3\n",
    "\n",
    "ns = []\n",
    "times = []\n",
    "for n in (1, 2, 5, 10, 20, 50, 100,200, 500, 1000,5000, 10000, 50000, 100000):\n",
    "    print('n=', n)\n",
    "    a = np.random.randn(n)\n",
    "    res = %timeit -o g(a)\n",
    "    ns.append(n)\n",
    "    times.append(res.average)\n",
    "plt.loglog(ns, times, 'o-')"
   ]
  },
  {
   "cell_type": "code",
   "execution_count": 375,
   "metadata": {},
   "outputs": [
    {
     "name": "stdout",
     "output_type": "stream",
     "text": [
      "n= 1\n",
      "3.8 µs ± 84.3 ns per loop (mean ± std. dev. of 7 runs, 100000 loops each)\n",
      "n= 2\n",
      "3.9 µs ± 187 ns per loop (mean ± std. dev. of 7 runs, 100000 loops each)\n",
      "n= 5\n",
      "3.7 µs ± 34.7 ns per loop (mean ± std. dev. of 7 runs, 100000 loops each)\n",
      "n= 10\n",
      "3.73 µs ± 42 ns per loop (mean ± std. dev. of 7 runs, 100000 loops each)\n",
      "n= 20\n",
      "3.74 µs ± 62.7 ns per loop (mean ± std. dev. of 7 runs, 100000 loops each)\n",
      "n= 50\n",
      "3.76 µs ± 19.6 ns per loop (mean ± std. dev. of 7 runs, 100000 loops each)\n",
      "n= 100\n",
      "3.84 µs ± 69.5 ns per loop (mean ± std. dev. of 7 runs, 100000 loops each)\n",
      "n= 200\n",
      "4.39 µs ± 59.2 ns per loop (mean ± std. dev. of 7 runs, 100000 loops each)\n",
      "n= 500\n",
      "4.87 µs ± 72.3 ns per loop (mean ± std. dev. of 7 runs, 100000 loops each)\n",
      "n= 1000\n",
      "6.01 µs ± 56.8 ns per loop (mean ± std. dev. of 7 runs, 100000 loops each)\n",
      "n= 5000\n",
      "13.4 µs ± 165 ns per loop (mean ± std. dev. of 7 runs, 100000 loops each)\n",
      "n= 10000\n",
      "25 µs ± 1.02 µs per loop (mean ± std. dev. of 7 runs, 10000 loops each)\n",
      "n= 50000\n",
      "137 µs ± 3.23 µs per loop (mean ± std. dev. of 7 runs, 10000 loops each)\n",
      "n= 100000\n",
      "253 µs ± 3.1 µs per loop (mean ± std. dev. of 7 runs, 1000 loops each)\n"
     ]
    },
    {
     "data": {
      "text/plain": [
       "[<matplotlib.lines.Line2D at 0x1a1bcadfd0>]"
      ]
     },
     "execution_count": 375,
     "metadata": {},
     "output_type": "execute_result"
    },
    {
     "data": {
      "image/png": "[encoded data removed]",
      "text/plain": [
       "<Figure size 432x288 with 1 Axes>"
      ]
     },
     "metadata": {
      "needs_background": "light"
     },
     "output_type": "display_data"
    }
   ],
   "source": [
    "def f(a):\n",
    "    return (a + 100)*12.3\n",
    "\n",
    "def g(b):\n",
    "    return f(b) + b*2.3\n",
    "\n",
    "def h(c):\n",
    "    return g(c)\n",
    "\n",
    "ns = []\n",
    "times = []\n",
    "for n in (1, 2, 5, 10, 20, 50, 100,200, 500, 1000,5000, 10000, 50000, 100000):\n",
    "    print('n=', n)\n",
    "    a = np.random.randn(n)\n",
    "    res = %timeit -o h(a)\n",
    "    ns.append(n)\n",
    "    times.append(res.average)\n",
    "plt.loglog(ns, times, 'o-')"
   ]
  },
  {
   "cell_type": "code",
   "execution_count": 374,
   "metadata": {},
   "outputs": [
    {
     "name": "stdout",
     "output_type": "stream",
     "text": [
      "n= 1\n",
      "4.51 µs ± 118 ns per loop (mean ± std. dev. of 7 runs, 100000 loops each)\n",
      "n= 2\n",
      "4.36 µs ± 148 ns per loop (mean ± std. dev. of 7 runs, 100000 loops each)\n",
      "n= 5\n",
      "4.19 µs ± 50.4 ns per loop (mean ± std. dev. of 7 runs, 100000 loops each)\n",
      "n= 10\n",
      "4.46 µs ± 222 ns per loop (mean ± std. dev. of 7 runs, 100000 loops each)\n",
      "n= 20\n",
      "4.38 µs ± 136 ns per loop (mean ± std. dev. of 7 runs, 100000 loops each)\n",
      "n= 50\n",
      "4.81 µs ± 79.5 ns per loop (mean ± std. dev. of 7 runs, 100000 loops each)\n",
      "n= 100\n",
      "4.9 µs ± 194 ns per loop (mean ± std. dev. of 7 runs, 100000 loops each)\n",
      "n= 200\n",
      "5.94 µs ± 82.2 ns per loop (mean ± std. dev. of 7 runs, 100000 loops each)\n",
      "n= 500\n",
      "7.33 µs ± 392 ns per loop (mean ± std. dev. of 7 runs, 100000 loops each)\n",
      "n= 1000\n",
      "10.4 µs ± 458 ns per loop (mean ± std. dev. of 7 runs, 100000 loops each)\n",
      "n= 5000\n",
      "29.1 µs ± 629 ns per loop (mean ± std. dev. of 7 runs, 10000 loops each)\n",
      "n= 10000\n",
      "1.67 ms ± 16.6 µs per loop (mean ± std. dev. of 7 runs, 1000 loops each)\n",
      "n= 50000\n",
      "2.36 ms ± 80.1 µs per loop (mean ± std. dev. of 7 runs, 100 loops each)\n",
      "n= 100000\n",
      "4.99 ms ± 296 µs per loop (mean ± std. dev. of 7 runs, 100 loops each)\n"
     ]
    },
    {
     "data": {
      "text/plain": [
       "[<matplotlib.lines.Line2D at 0x1a1baca2b0>]"
      ]
     },
     "execution_count": 374,
     "metadata": {},
     "output_type": "execute_result"
    },
    {
     "data": {
      "image/png": "[encoded data removed]",
      "text/plain": [
       "<Figure size 432x288 with 1 Axes>"
      ]
     },
     "metadata": {
      "needs_background": "light"
     },
     "output_type": "display_data"
    }
   ],
   "source": [
    "def f(a):\n",
    "    return (a + 100)*12.3\n",
    "\n",
    "def g(b):\n",
    "    return np.exp(f(b) + b*2.3)\n",
    "\n",
    "ns = []\n",
    "times = []\n",
    "for n in (1, 2, 5, 10, 20, 50, 100,200, 500, 1000,5000, 10000, 50000, 100000):\n",
    "    print('n=', n)\n",
    "    a = np.random.randn(n)\n",
    "    res = %timeit -o g(a)\n",
    "    ns.append(n)\n",
    "    times.append(res.average)\n",
    "plt.loglog(ns, times, 'o-')"
   ]
  },
  {
   "cell_type": "markdown",
   "metadata": {},
   "source": [
    "The ones below are a bit more complex in that it has a programatically set of nested calls"
   ]
  },
  {
   "cell_type": "code",
   "execution_count": 423,
   "metadata": {},
   "outputs": [],
   "source": [
    "def f(a):\n",
    "    return (a + 100)*12.3\n",
    "\n",
    "def noop():\n",
    "    pass\n",
    "\n",
    "def g(b, ncalls=1):\n",
    "    out = f(b)\n",
    "    for i in range(ncalls-1):\n",
    "        noop()\n",
    "    return out"
   ]
  },
  {
   "cell_type": "code",
   "execution_count": 429,
   "metadata": {},
   "outputs": [
    {
     "name": "stdout",
     "output_type": "stream",
     "text": [
      "ncalls = 1 narray = 10\n",
      "2.78 µs ± 356 ns per loop (mean ± std. dev. of 7 runs, 1024 loops each)\n",
      "ncalls = 1 narray = 20\n",
      "2.77 µs ± 318 ns per loop (mean ± std. dev. of 7 runs, 1024 loops each)\n",
      "ncalls = 1 narray = 50\n",
      "2.67 µs ± 193 ns per loop (mean ± std. dev. of 7 runs, 1024 loops each)\n",
      "ncalls = 1 narray = 100\n",
      "3.05 µs ± 644 ns per loop (mean ± std. dev. of 7 runs, 1024 loops each)\n",
      "ncalls = 1 narray = 200\n",
      "2.97 µs ± 343 ns per loop (mean ± std. dev. of 7 runs, 1024 loops each)\n",
      "ncalls = 1 narray = 500\n",
      "3.12 µs ± 180 ns per loop (mean ± std. dev. of 7 runs, 1024 loops each)\n",
      "ncalls = 1 narray = 1000\n",
      "4.7 µs ± 2.68 µs per loop (mean ± std. dev. of 7 runs, 1024 loops each)\n",
      "ncalls = 1 narray = 2000\n",
      "4.52 µs ± 581 ns per loop (mean ± std. dev. of 7 runs, 1024 loops each)\n",
      "ncalls = 1 narray = 5000\n",
      "7.37 µs ± 448 ns per loop (mean ± std. dev. of 7 runs, 1024 loops each)\n",
      "ncalls = 1 narray = 10000\n",
      "11.7 µs ± 190 ns per loop (mean ± std. dev. of 7 runs, 1024 loops each)\n",
      "ncalls = 1 narray = 20000\n",
      "30.4 µs ± 453 ns per loop (mean ± std. dev. of 7 runs, 1024 loops each)\n",
      "ncalls = 1 narray = 50000\n",
      "61.6 µs ± 1.65 µs per loop (mean ± std. dev. of 7 runs, 1024 loops each)\n",
      "ncalls = 2 narray = 10\n",
      "3.14 µs ± 653 ns per loop (mean ± std. dev. of 7 runs, 1024 loops each)\n",
      "ncalls = 2 narray = 20\n",
      "2.71 µs ± 165 ns per loop (mean ± std. dev. of 7 runs, 1024 loops each)\n",
      "ncalls = 2 narray = 50\n",
      "2.9 µs ± 448 ns per loop (mean ± std. dev. of 7 runs, 1024 loops each)\n",
      "ncalls = 2 narray = 100\n",
      "2.9 µs ± 221 ns per loop (mean ± std. dev. of 7 runs, 1024 loops each)\n",
      "ncalls = 2 narray = 200\n",
      "3.39 µs ± 377 ns per loop (mean ± std. dev. of 7 runs, 1024 loops each)\n",
      "ncalls = 2 narray = 500\n",
      "3.68 µs ± 507 ns per loop (mean ± std. dev. of 7 runs, 1024 loops each)\n",
      "ncalls = 2 narray = 1000\n",
      "4.11 µs ± 727 ns per loop (mean ± std. dev. of 7 runs, 1024 loops each)\n",
      "ncalls = 2 narray = 2000\n",
      "5.02 µs ± 653 ns per loop (mean ± std. dev. of 7 runs, 1024 loops each)\n",
      "ncalls = 2 narray = 5000\n",
      "7.13 µs ± 497 ns per loop (mean ± std. dev. of 7 runs, 1024 loops each)\n",
      "ncalls = 2 narray = 10000\n",
      "11.6 µs ± 131 ns per loop (mean ± std. dev. of 7 runs, 1024 loops each)\n",
      "ncalls = 2 narray = 20000\n",
      "31.5 µs ± 1.6 µs per loop (mean ± std. dev. of 7 runs, 1024 loops each)\n",
      "ncalls = 2 narray = 50000\n",
      "62.7 µs ± 1.62 µs per loop (mean ± std. dev. of 7 runs, 1024 loops each)\n",
      "ncalls = 5 narray = 10\n",
      "3 µs ± 135 ns per loop (mean ± std. dev. of 7 runs, 1024 loops each)\n",
      "ncalls = 5 narray = 20\n",
      "3.39 µs ± 497 ns per loop (mean ± std. dev. of 7 runs, 1024 loops each)\n",
      "ncalls = 5 narray = 50\n",
      "3.32 µs ± 394 ns per loop (mean ± std. dev. of 7 runs, 1024 loops each)\n",
      "ncalls = 5 narray = 100\n",
      "3.17 µs ± 253 ns per loop (mean ± std. dev. of 7 runs, 1024 loops each)\n",
      "ncalls = 5 narray = 200\n",
      "3.34 µs ± 337 ns per loop (mean ± std. dev. of 7 runs, 1024 loops each)\n",
      "ncalls = 5 narray = 500\n",
      "3.68 µs ± 318 ns per loop (mean ± std. dev. of 7 runs, 1024 loops each)\n",
      "ncalls = 5 narray = 1000\n",
      "4.23 µs ± 422 ns per loop (mean ± std. dev. of 7 runs, 1024 loops each)\n",
      "ncalls = 5 narray = 2000\n",
      "5.07 µs ± 430 ns per loop (mean ± std. dev. of 7 runs, 1024 loops each)\n",
      "ncalls = 5 narray = 5000\n",
      "7.38 µs ± 503 ns per loop (mean ± std. dev. of 7 runs, 1024 loops each)\n",
      "ncalls = 5 narray = 10000\n",
      "12.1 µs ± 380 ns per loop (mean ± std. dev. of 7 runs, 1024 loops each)\n",
      "ncalls = 5 narray = 20000\n",
      "31.2 µs ± 358 ns per loop (mean ± std. dev. of 7 runs, 1024 loops each)\n",
      "ncalls = 5 narray = 50000\n",
      "62 µs ± 1.63 µs per loop (mean ± std. dev. of 7 runs, 1024 loops each)\n",
      "ncalls = 10 narray = 10\n",
      "4.08 µs ± 741 ns per loop (mean ± std. dev. of 7 runs, 1024 loops each)\n",
      "ncalls = 10 narray = 20\n",
      "3.98 µs ± 731 ns per loop (mean ± std. dev. of 7 runs, 1024 loops each)\n",
      "ncalls = 10 narray = 50\n",
      "3.41 µs ± 190 ns per loop (mean ± std. dev. of 7 runs, 1024 loops each)\n",
      "ncalls = 10 narray = 100\n",
      "4.26 µs ± 902 ns per loop (mean ± std. dev. of 7 runs, 1024 loops each)\n",
      "ncalls = 10 narray = 200\n",
      "3.92 µs ± 272 ns per loop (mean ± std. dev. of 7 runs, 1024 loops each)\n",
      "ncalls = 10 narray = 500\n",
      "4.06 µs ± 337 ns per loop (mean ± std. dev. of 7 runs, 1024 loops each)\n",
      "ncalls = 10 narray = 1000\n",
      "5.04 µs ± 902 ns per loop (mean ± std. dev. of 7 runs, 1024 loops each)\n",
      "ncalls = 10 narray = 2000\n",
      "5.6 µs ± 658 ns per loop (mean ± std. dev. of 7 runs, 1024 loops each)\n",
      "ncalls = 10 narray = 5000\n",
      "7.82 µs ± 441 ns per loop (mean ± std. dev. of 7 runs, 1024 loops each)\n",
      "ncalls = 10 narray = 10000\n",
      "12.7 µs ± 387 ns per loop (mean ± std. dev. of 7 runs, 1024 loops each)\n",
      "ncalls = 10 narray = 20000\n",
      "31.5 µs ± 796 ns per loop (mean ± std. dev. of 7 runs, 1024 loops each)\n",
      "ncalls = 10 narray = 50000\n",
      "62.7 µs ± 1.42 µs per loop (mean ± std. dev. of 7 runs, 1024 loops each)\n",
      "ncalls = 20 narray = 10\n",
      "4.46 µs ± 432 ns per loop (mean ± std. dev. of 7 runs, 1024 loops each)\n",
      "ncalls = 20 narray = 20\n",
      "4.37 µs ± 391 ns per loop (mean ± std. dev. of 7 runs, 1024 loops each)\n",
      "ncalls = 20 narray = 50\n",
      "4.25 µs ± 293 ns per loop (mean ± std. dev. of 7 runs, 1024 loops each)\n",
      "ncalls = 20 narray = 100\n",
      "4.92 µs ± 698 ns per loop (mean ± std. dev. of 7 runs, 1024 loops each)\n",
      "ncalls = 20 narray = 200\n",
      "4.71 µs ± 303 ns per loop (mean ± std. dev. of 7 runs, 1024 loops each)\n",
      "ncalls = 20 narray = 500\n",
      "4.81 µs ± 225 ns per loop (mean ± std. dev. of 7 runs, 1024 loops each)\n",
      "ncalls = 20 narray = 1000\n",
      "5.54 µs ± 423 ns per loop (mean ± std. dev. of 7 runs, 1024 loops each)\n",
      "ncalls = 20 narray = 2000\n",
      "7.24 µs ± 2.32 µs per loop (mean ± std. dev. of 7 runs, 1024 loops each)\n",
      "ncalls = 20 narray = 5000\n",
      "9.07 µs ± 1.12 µs per loop (mean ± std. dev. of 7 runs, 1024 loops each)\n",
      "ncalls = 20 narray = 10000\n",
      "13.9 µs ± 864 ns per loop (mean ± std. dev. of 7 runs, 1024 loops each)\n",
      "ncalls = 20 narray = 20000\n",
      "32 µs ± 823 ns per loop (mean ± std. dev. of 7 runs, 1024 loops each)\n",
      "ncalls = 20 narray = 50000\n",
      "63.4 µs ± 1.34 µs per loop (mean ± std. dev. of 7 runs, 1024 loops each)\n"
     ]
    },
    {
     "data": {
      "text/plain": [
       "(2.2759970866228052e-06, 7.42879727989769e-05)"
      ]
     },
     "execution_count": 429,
     "metadata": {},
     "output_type": "execute_result"
    },
    {
     "data": {
      "image/png": "[encoded data removed]",
      "text/plain": [
       "<Figure size 432x288 with 1 Axes>"
      ]
     },
     "metadata": {
      "needs_background": "light"
     },
     "output_type": "display_data"
    }
   ],
   "source": [
    "ncalls = []\n",
    "ns = []\n",
    "times = []\n",
    "for ncall in (1, 2, 5, 10, 20):\n",
    "    for n in (10, 20, 50, 100,200, 500, 1000, 2000, 5000, 10000, 20000, 50000):\n",
    "        print('ncalls =',ncall, 'narray =', n)\n",
    "        a = np.random.randn(n)\n",
    "        res = %timeit -r 7 -n 1024 -o g(a, ncalls=ncall)\n",
    "        ncalls.append(ncall)\n",
    "        ns.append(n)\n",
    "        times.append(res.average)\n",
    "        \n",
    "ns = np.array(ns)\n",
    "ncalls = np.array(ncalls)\n",
    "times = np.array(times)\n",
    "un = np.unique(ncalls)\n",
    "for ui in un:\n",
    "    msk = ncalls == ui\n",
    "    plt.loglog(ns[msk], times[msk], 'o-', label=ui)\n",
    "plt.legend(loc=0)\n",
    "plt.xlabel('n_array')\n",
    "plt.ylabel('time per [s]')\n",
    "plt.ylim()"
   ]
  }
 ],
 "metadata": {
  "kernelspec": {
   "display_name": "Python (astro36)",
   "language": "python",
   "name": "astro36"
  },
  "language_info": {
   "codemirror_mode": {
    "name": "ipython",
    "version": 3
   },
   "file_extension": ".py",
   "mimetype": "text/x-python",
   "name": "python",
   "nbconvert_exporter": "python",
   "pygments_lexer": "ipython3",
   "version": "3.6.7"
  }
 },
 "nbformat": 4,
 "nbformat_minor": 2
}
